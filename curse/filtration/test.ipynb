{
 "cells": [
  {
   "cell_type": "code",
   "execution_count": 7,
   "metadata": {},
   "outputs": [
    {
     "name": "stdout",
     "output_type": "stream",
     "text": [
      "/home/kurk/curse/filtration/graph_func.cpython-312-x86_64-linux-gnu.so\n",
      "filtrate(A: numpy.ndarray[numpy.float64], n: int, threads: int) -> numpy.ndarray[numpy.float64]\n",
      "\n",
      "filter complex\n",
      "\n"
     ]
    }
   ],
   "source": [
    "%matplotlib inline\n",
    "import matplotlib.pyplot as plt\n",
    "\n",
    "from scipy.spatial.distance import pdist, squareform\n",
    "from itertools import permutations, combinations\n",
    "from math import comb\n",
    "import numpy as np\n",
    "import timeit\n",
    "import sys\n",
    "sys.path.insert(0, '/home/kurk/curse/filtration/graph_func.cpython-312-x86_64-linux-gnu.so')\n",
    "\n",
    "import graph_func as gf\n",
    "from timeit import default_timer as timer\n",
    "\n",
    "print(gf.__file__)\n",
    "print(gf.filtrate.__doc__)"
   ]
  },
  {
   "cell_type": "code",
   "execution_count": 23,
   "metadata": {},
   "outputs": [],
   "source": [
    "def subsequences(seq):\n",
    "    return [[list(subseq) for subseq in combinations(seq, sublen)] for sublen in range(2, len(seq)+1)]\n",
    "\n",
    "def pairs(seq):\n",
    "    return [seq[i:i+2] for i in range(len(seq)-1)]\n",
    "\n",
    "def f(A, simplex, p=np.inf):\n",
    "\n",
    "    fs = []\n",
    "    for seq_p in permutations(simplex):\n",
    "\n",
    "        ds = np.zeros(0)\n",
    "        for dim, items in enumerate(subsequences(seq_p), start=1):\n",
    "            for item in items:\n",
    "                vec = A[(*np.array(pairs(item)).T,)]\n",
    "                ds = np.concatenate([ds, [np.linalg.norm(vec, p)]])\n",
    "        fs.append(np.max(ds))\n",
    "\n",
    "    return np.min(fs)"
   ]
  },
  {
   "cell_type": "code",
   "execution_count": 13,
   "metadata": {},
   "outputs": [
    {
     "data": {
      "text/plain": [
       "((20, 2), (20, 20))"
      ]
     },
     "execution_count": 13,
     "metadata": {},
     "output_type": "execute_result"
    }
   ],
   "source": [
    "n = 20\n",
    "X = np.random.normal(size=(n, 2))\n",
    "A = squareform(pdist(X))\n",
    "X.shape, A.shape"
   ]
  },
  {
   "cell_type": "code",
   "execution_count": 14,
   "metadata": {},
   "outputs": [
    {
     "data": {
      "image/png": "[encoded data removed]",
      "text/plain": [
       "<Figure size 500x500 with 1 Axes>"
      ]
     },
     "metadata": {},
     "output_type": "display_data"
    }
   ],
   "source": [
    "plt.figure(figsize=(5,5))\n",
    "plt.scatter(X[:,0], X[:,1], s=10, c=\"b\")\n",
    "plt.show()"
   ]
  },
  {
   "cell_type": "code",
   "execution_count": 25,
   "metadata": {},
   "outputs": [
    {
     "name": "stdout",
     "output_type": "stream",
     "text": [
      "-0.004711976998805767\n"
     ]
    },
    {
     "data": {
      "text/plain": [
       "array([[ 0.00000000e+00, -2.78215888e+00,  0.00000000e+00],\n",
       "       [ 0.00000000e+00, -2.11853607e+00,  0.00000000e+00],\n",
       "       [ 0.00000000e+00, -3.06810806e+00,  0.00000000e+00],\n",
       "       [ 0.00000000e+00, -1.36055578e+00,  0.00000000e+00],\n",
       "       [ 0.00000000e+00, -1.99821757e+00,  0.00000000e+00],\n",
       "       [ 0.00000000e+00, -1.58113030e+00,  0.00000000e+00],\n",
       "       [ 0.00000000e+00, -8.88212835e-01,  0.00000000e+00],\n",
       "       [ 0.00000000e+00, -8.10186211e-01,  0.00000000e+00],\n",
       "       [ 0.00000000e+00, -2.03887757e+00,  0.00000000e+00],\n",
       "       [ 0.00000000e+00, -1.94921168e+00,  0.00000000e+00],\n",
       "       [ 0.00000000e+00, -1.82657239e+00,  0.00000000e+00],\n",
       "       [ 0.00000000e+00, -2.68788960e+00,  0.00000000e+00],\n",
       "       [ 0.00000000e+00, -3.38549503e+00,  0.00000000e+00],\n",
       "       [ 0.00000000e+00,  1.61998829e+00,  0.00000000e+00],\n",
       "       [ 0.00000000e+00, -3.16432044e+00,  0.00000000e+00],\n",
       "       [ 0.00000000e+00, -2.64270522e+00,  0.00000000e+00],\n",
       "       [ 0.00000000e+00, -2.07281418e+00,  0.00000000e+00],\n",
       "       [ 0.00000000e+00, -1.90671265e+00,  0.00000000e+00],\n",
       "       [ 0.00000000e+00, -1.90004385e+00,  0.00000000e+00],\n",
       "       [ 0.00000000e+00, -6.51663470e-01,  0.00000000e+00],\n",
       "       [ 0.00000000e+00,  2.46739142e+01,  0.00000000e+00],\n",
       "       [ 0.00000000e+00, -8.81187761e-01,  0.00000000e+00],\n",
       "       [ 0.00000000e+00, -2.36539030e+00,  0.00000000e+00],\n",
       "       [ 0.00000000e+00, -1.30144820e+00,  0.00000000e+00],\n",
       "       [ 0.00000000e+00, -1.85177403e+00,  0.00000000e+00],\n",
       "       [ 0.00000000e+00, -1.43654694e+00,  0.00000000e+00],\n",
       "       [ 0.00000000e+00, -1.11156646e+00,  0.00000000e+00],\n",
       "       [ 0.00000000e+00, -7.23212326e-01,  0.00000000e+00],\n",
       "       [ 0.00000000e+00, -1.05619618e+00,  0.00000000e+00],\n",
       "       [ 0.00000000e+00,  1.19718769e+00,  0.00000000e+00],\n",
       "       [ 0.00000000e+00,  6.24804531e+00,  0.00000000e+00],\n",
       "       [ 0.00000000e+00, -1.95650444e+00,  0.00000000e+00],\n",
       "       [ 0.00000000e+00, -1.52256288e+00,  0.00000000e+00],\n",
       "       [ 0.00000000e+00, -1.11001778e+00,  0.00000000e+00],\n",
       "       [ 0.00000000e+00, -1.61281991e+00,  0.00000000e+00],\n",
       "       [ 0.00000000e+00, -2.58507511e+00,  0.00000000e+00],\n",
       "       [ 0.00000000e+00,  7.89989362e-01,  0.00000000e+00],\n",
       "       [ 0.00000000e+00, -1.47338636e+00,  0.00000000e+00],\n",
       "       [ 0.00000000e+00,  8.57993333e-01,  0.00000000e+00],\n",
       "       [ 0.00000000e+00, -7.69732823e-01,  0.00000000e+00],\n",
       "       [ 0.00000000e+00,  1.81618331e+01,  0.00000000e+00],\n",
       "       [ 0.00000000e+00,  1.68383797e-01,  0.00000000e+00],\n",
       "       [ 0.00000000e+00, -9.68403774e-01,  0.00000000e+00],\n",
       "       [ 0.00000000e+00,  5.25802441e+02,  0.00000000e+00],\n",
       "       [ 0.00000000e+00,  1.55846832e+03,  0.00000000e+00],\n",
       "       [ 0.00000000e+00,  1.80205790e+02,  0.00000000e+00],\n",
       "       [ 0.00000000e+00,  7.37226414e+00,  0.00000000e+00],\n",
       "       [ 0.00000000e+00, -1.63259851e+00,  0.00000000e+00],\n",
       "       [ 0.00000000e+00, -1.39968416e+00,  0.00000000e+00],\n",
       "       [ 0.00000000e+00, -3.34464533e-01,  0.00000000e+00],\n",
       "       [ 0.00000000e+00,  9.72657817e+00,  0.00000000e+00],\n",
       "       [ 0.00000000e+00, -2.13866902e+00,  0.00000000e+00],\n",
       "       [ 0.00000000e+00, -1.20102957e+00,  0.00000000e+00],\n",
       "       [ 0.00000000e+00,  6.44582442e+00,  0.00000000e+00],\n",
       "       [ 0.00000000e+00, -1.43915759e+00,  0.00000000e+00],\n",
       "       [ 0.00000000e+00, -2.82262909e+00,  0.00000000e+00],\n",
       "       [ 0.00000000e+00, -1.84338249e+00,  0.00000000e+00],\n",
       "       [ 0.00000000e+00, -2.28231056e+00,  0.00000000e+00],\n",
       "       [ 0.00000000e+00, -1.75825672e+00,  0.00000000e+00],\n",
       "       [ 0.00000000e+00, -1.73733172e+00,  0.00000000e+00],\n",
       "       [ 0.00000000e+00, -1.49737529e+00,  0.00000000e+00],\n",
       "       [ 0.00000000e+00, -1.68655283e+00,  0.00000000e+00],\n",
       "       [ 0.00000000e+00, -8.75211219e-01,  0.00000000e+00],\n",
       "       [ 0.00000000e+00,  4.97514208e+01,  0.00000000e+00],\n",
       "       [ 0.00000000e+00, -2.24338805e+00,  0.00000000e+00],\n",
       "       [ 0.00000000e+00, -1.98987324e+00,  0.00000000e+00],\n",
       "       [ 0.00000000e+00, -1.72609025e+00,  0.00000000e+00],\n",
       "       [ 0.00000000e+00, -1.54978766e+00,  0.00000000e+00],\n",
       "       [ 0.00000000e+00, -3.03357157e+00,  0.00000000e+00],\n",
       "       [ 0.00000000e+00, -8.62562685e-01,  0.00000000e+00],\n",
       "       [ 0.00000000e+00, -1.52798947e+00,  0.00000000e+00],\n",
       "       [ 0.00000000e+00,  4.41041184e+00,  0.00000000e+00],\n",
       "       [ 0.00000000e+00,  1.39802166e+00,  0.00000000e+00],\n",
       "       [ 0.00000000e+00,  2.49553396e+01,  0.00000000e+00],\n",
       "       [ 0.00000000e+00,  3.46954826e-01,  0.00000000e+00],\n",
       "       [ 0.00000000e+00,  2.88327862e+00,  0.00000000e+00],\n",
       "       [ 0.00000000e+00,  2.75116123e+00,  0.00000000e+00],\n",
       "       [ 0.00000000e+00, -8.64521161e-01,  0.00000000e+00],\n",
       "       [ 0.00000000e+00, -1.79516580e+00,  0.00000000e+00],\n",
       "       [ 0.00000000e+00,  1.75549737e+00,  0.00000000e+00],\n",
       "       [ 0.00000000e+00, -1.87044338e+00,  0.00000000e+00],\n",
       "       [ 0.00000000e+00, -1.18886178e+00,  0.00000000e+00],\n",
       "       [ 0.00000000e+00, -1.17699675e+00,  0.00000000e+00],\n",
       "       [ 0.00000000e+00, -1.68263408e+00,  0.00000000e+00],\n",
       "       [ 0.00000000e+00,  2.68641006e+01,  0.00000000e+00],\n",
       "       [ 0.00000000e+00, -9.28063742e-02,  0.00000000e+00],\n",
       "       [ 0.00000000e+00,  1.47753487e-01,  0.00000000e+00],\n",
       "       [ 0.00000000e+00, -1.85314496e+00,  0.00000000e+00],\n",
       "       [ 0.00000000e+00, -5.72517857e-02,  0.00000000e+00],\n",
       "       [ 0.00000000e+00, -7.45582496e-01,  0.00000000e+00],\n",
       "       [ 0.00000000e+00, -3.33701432e-01,  0.00000000e+00],\n",
       "       [ 0.00000000e+00, -1.59951591e+00,  0.00000000e+00],\n",
       "       [ 0.00000000e+00, -2.94067599e+00,  0.00000000e+00],\n",
       "       [ 0.00000000e+00, -1.82236446e+00,  0.00000000e+00],\n",
       "       [ 0.00000000e+00, -1.42391875e+00,  0.00000000e+00],\n",
       "       [ 0.00000000e+00, -8.79225358e-01,  0.00000000e+00],\n",
       "       [ 0.00000000e+00, -3.06149260e+00,  0.00000000e+00],\n",
       "       [ 0.00000000e+00,  2.47853461e+02,  0.00000000e+00],\n",
       "       [ 0.00000000e+00, -1.56932106e+00,  0.00000000e+00],\n",
       "       [ 0.00000000e+00,  1.70267048e+01,  0.00000000e+00],\n",
       "       [ 0.00000000e+00, -1.13633984e-01,  0.00000000e+00],\n",
       "       [ 0.00000000e+00,  4.14418325e+01,  0.00000000e+00],\n",
       "       [ 0.00000000e+00,  6.67850377e+01,  0.00000000e+00],\n",
       "       [ 0.00000000e+00,  5.26437991e+02,  0.00000000e+00],\n",
       "       [ 0.00000000e+00, -3.03253791e-01,  0.00000000e+00],\n",
       "       [ 0.00000000e+00, -2.05365982e+00,  0.00000000e+00],\n",
       "       [ 0.00000000e+00, -6.55427503e-01,  0.00000000e+00],\n",
       "       [ 0.00000000e+00, -1.27759577e+00,  0.00000000e+00],\n",
       "       [ 0.00000000e+00,  1.87021949e-01,  0.00000000e+00],\n",
       "       [ 0.00000000e+00, -2.03426673e+00,  0.00000000e+00],\n",
       "       [ 0.00000000e+00, -6.55053496e-01,  0.00000000e+00],\n",
       "       [ 0.00000000e+00,  3.71029082e+00,  0.00000000e+00],\n",
       "       [ 0.00000000e+00,  1.24503661e-01,  0.00000000e+00],\n",
       "       [ 0.00000000e+00,  1.07810323e+00,  0.00000000e+00],\n",
       "       [ 0.00000000e+00,  1.19938079e+00,  0.00000000e+00],\n",
       "       [ 0.00000000e+00,  3.57203746e+00,  0.00000000e+00],\n",
       "       [ 0.00000000e+00, -1.38795969e+00,  0.00000000e+00],\n",
       "       [ 0.00000000e+00, -2.51620227e+00,  0.00000000e+00],\n",
       "       [ 0.00000000e+00,  3.88152572e-01,  0.00000000e+00],\n",
       "       [ 0.00000000e+00, -1.83528890e+00,  0.00000000e+00],\n",
       "       [ 0.00000000e+00, -1.15574605e+00,  0.00000000e+00],\n",
       "       [ 0.00000000e+00, -2.11010358e+00,  0.00000000e+00],\n",
       "       [ 0.00000000e+00, -1.20806787e-01,  0.00000000e+00],\n",
       "       [ 0.00000000e+00, -2.57144615e-01,  0.00000000e+00],\n",
       "       [ 0.00000000e+00, -1.05465938e+00,  0.00000000e+00],\n",
       "       [ 0.00000000e+00, -5.99321912e-01,  0.00000000e+00],\n",
       "       [ 0.00000000e+00, -5.42917377e-01,  0.00000000e+00],\n",
       "       [ 0.00000000e+00, -1.57998055e+00,  0.00000000e+00],\n",
       "       [ 0.00000000e+00, -2.12313821e+00,  0.00000000e+00],\n",
       "       [ 0.00000000e+00,  2.72248569e+01,  0.00000000e+00],\n",
       "       [ 0.00000000e+00, -2.35196341e+00,  0.00000000e+00],\n",
       "       [ 0.00000000e+00, -1.78512135e+00,  0.00000000e+00],\n",
       "       [ 0.00000000e+00, -6.90674626e-01,  0.00000000e+00],\n",
       "       [ 0.00000000e+00, -1.93845628e+00,  0.00000000e+00],\n",
       "       [ 0.00000000e+00,  9.88744061e-01,  0.00000000e+00],\n",
       "       [ 0.00000000e+00,  2.86875138e+02,  0.00000000e+00],\n",
       "       [ 0.00000000e+00,  4.57070883e+02,  0.00000000e+00],\n",
       "       [ 0.00000000e+00,  2.10951789e+00,  0.00000000e+00],\n",
       "       [ 0.00000000e+00, -1.87935255e+00,  0.00000000e+00],\n",
       "       [ 0.00000000e+00, -1.38628779e+00,  0.00000000e+00],\n",
       "       [ 0.00000000e+00, -3.84907583e-01,  0.00000000e+00],\n",
       "       [ 0.00000000e+00,  8.75358646e+00,  0.00000000e+00],\n",
       "       [ 0.00000000e+00, -2.27478097e+00,  0.00000000e+00],\n",
       "       [ 0.00000000e+00, -7.88222661e-01,  0.00000000e+00],\n",
       "       [ 0.00000000e+00,  2.15057805e+00,  0.00000000e+00],\n",
       "       [ 0.00000000e+00,  1.64342319e+03,  0.00000000e+00],\n",
       "       [ 0.00000000e+00,  2.96677077e+00,  0.00000000e+00],\n",
       "       [ 0.00000000e+00, -1.69400487e+00,  0.00000000e+00],\n",
       "       [ 0.00000000e+00, -1.15174544e+00,  0.00000000e+00],\n",
       "       [ 0.00000000e+00, -8.02955751e-01,  0.00000000e+00],\n",
       "       [ 0.00000000e+00,  3.15504284e+00,  0.00000000e+00],\n",
       "       [ 0.00000000e+00, -2.01676060e+00,  0.00000000e+00],\n",
       "       [ 0.00000000e+00, -1.15578244e+00,  0.00000000e+00],\n",
       "       [ 0.00000000e+00,  1.28722078e+01,  0.00000000e+00],\n",
       "       [ 0.00000000e+00,  9.29302558e-01,  0.00000000e+00],\n",
       "       [ 0.00000000e+00, -1.87694514e+00,  0.00000000e+00],\n",
       "       [ 0.00000000e+00, -1.03633127e+00,  0.00000000e+00],\n",
       "       [ 0.00000000e+00, -9.43326854e-01,  0.00000000e+00],\n",
       "       [ 0.00000000e+00,  2.00905339e+00,  0.00000000e+00],\n",
       "       [ 0.00000000e+00, -2.07514838e+00,  0.00000000e+00],\n",
       "       [ 0.00000000e+00, -8.76496509e-01,  0.00000000e+00],\n",
       "       [ 0.00000000e+00,  6.05635380e+00,  0.00000000e+00],\n",
       "       [ 0.00000000e+00, -9.05196034e-01,  0.00000000e+00],\n",
       "       [ 0.00000000e+00, -1.97809194e+00,  0.00000000e+00],\n",
       "       [ 0.00000000e+00,  1.02909596e+00,  0.00000000e+00],\n",
       "       [ 0.00000000e+00,  1.00365278e+01,  0.00000000e+00],\n",
       "       [ 0.00000000e+00, -2.26835388e+00,  0.00000000e+00],\n",
       "       [ 0.00000000e+00, -1.88369311e+00,  0.00000000e+00],\n",
       "       [ 0.00000000e+00,  1.07228787e+00,  0.00000000e+00],\n",
       "       [ 0.00000000e+00, -2.57916254e+00,  0.00000000e+00],\n",
       "       [ 0.00000000e+00, -1.89115450e+00,  0.00000000e+00],\n",
       "       [ 0.00000000e+00, -1.73592908e+00,  0.00000000e+00],\n",
       "       [ 0.00000000e+00, -1.99412413e+00,  0.00000000e+00],\n",
       "       [ 0.00000000e+00, -3.16663279e+00,  0.00000000e+00],\n",
       "       [ 0.00000000e+00, -1.29841682e+00,  0.00000000e+00],\n",
       "       [ 0.00000000e+00, -2.61601390e+00,  0.00000000e+00],\n",
       "       [ 0.00000000e+00, -2.06320944e+00,  0.00000000e+00],\n",
       "       [ 0.00000000e+00, -1.23255303e+00,  0.00000000e+00],\n",
       "       [ 0.00000000e+00, -1.84518799e+00,  0.00000000e+00],\n",
       "       [ 0.00000000e+00, -7.90533873e-01,  0.00000000e+00],\n",
       "       [ 0.00000000e+00,  1.28013451e+01,  0.00000000e+00],\n",
       "       [ 0.00000000e+00, -3.12663191e+00,  0.00000000e+00],\n",
       "       [ 0.00000000e+00, -1.74390156e+00,  0.00000000e+00],\n",
       "       [ 0.00000000e+00, -1.45205620e+00,  0.00000000e+00],\n",
       "       [ 0.00000000e+00, -2.66753795e+00,  0.00000000e+00],\n",
       "       [ 0.00000000e+00, -1.32807494e+00,  0.00000000e+00],\n",
       "       [ 0.00000000e+00, -4.92930867e-01,  0.00000000e+00],\n",
       "       [ 0.00000000e+00, -3.16280212e+00,  0.00000000e+00],\n",
       "       [ 0.00000000e+00, -1.40874291e+00,  0.00000000e+00],\n",
       "       [ 0.00000000e+00, -1.78126418e+00,  0.00000000e+00]])"
      ]
     },
     "execution_count": 25,
     "metadata": {},
     "output_type": "execute_result"
    }
   ],
   "source": [
    "start = timeit.timeit()\n",
    "\n",
    "es_ = np.zeros((comb(n, 2), 3))\n",
    "\n",
    "start = timeit.timeit()\n",
    "\n",
    "for i, simplex in enumerate(combinations(range(n), 2)):\n",
    "    es_[i,0] = f(A, simplex, 1)\n",
    "    es_[i,1] = f(A, simplex, 2)\n",
    "    es_[i,2] = f(A, simplex, np.inf)\n",
    "\n",
    "es = gf.filtrate(A, 2, 1)\n",
    "# ts = gf.filtrate(A, 3, 1)\n",
    "\n",
    "end = timeit.timeit()\n",
    "\n",
    "print(end - start)\n",
    "es - es_"
   ]
  },
  {
   "cell_type": "code",
   "execution_count": 21,
   "metadata": {},
   "outputs": [
    {
     "name": "stderr",
     "output_type": "stream",
     "text": [
      "<>:2: SyntaxWarning: invalid escape sequence '\\i'\n",
      "<>:2: SyntaxWarning: invalid escape sequence '\\i'\n",
      "/tmp/ipykernel_1285003/1003228789.py:2: SyntaxWarning: invalid escape sequence '\\i'\n",
      "  for j, title in [(0, \"p=1\"), (1, \"p=2\"), (2, \"p=$\\infty$\")]:\n"
     ]
    },
    {
     "data": {
      "image/png": "[encoded data removed]",
      "text/plain": [
       "<Figure size 3000x800 with 3 Axes>"
      ]
     },
     "metadata": {},
     "output_type": "display_data"
    }
   ],
   "source": [
    "fig, ax = plt.subplots(ncols=3, figsize=(15, 4), dpi=200)\n",
    "for j, title in [(0, \"p=1\"), (1, \"p=2\"), (2, \"p=$\\infty$\")]:\n",
    "    ax[j].set_xlim(0, 5)\n",
    "    ax[j].set_title(title)\n",
    "    ax[j].hist(es[:,j], 50, color=\"r\", alpha=0.3)\n",
    "    # ax[j].hist(ts[:,j], 50, color=\"b\", alpha=0.3)\n",
    "plt.show()"
   ]
  }
 ],
 "metadata": {
  "kernelspec": {
   "display_name": "Python 3",
   "language": "python",
   "name": "python3"
  },
  "language_info": {
   "codemirror_mode": {
    "name": "ipython",
    "version": 3
   },
   "file_extension": ".py",
   "mimetype": "text/x-python",
   "name": "python",
   "nbconvert_exporter": "python",
   "pygments_lexer": "ipython3",
   "version": "3.12.3"
  }
 },
 "nbformat": 4,
 "nbformat_minor": 2
}
